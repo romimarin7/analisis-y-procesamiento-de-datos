{
 "cells": [
  {
   "cell_type": "code",
   "execution_count": 1,
   "id": "eada3381",
   "metadata": {},
   "outputs": [
    {
     "name": "stdout",
     "output_type": "stream",
     "text": [
      "Last updated: 2023-06-03T17:09:15.756469-03:00\n",
      "\n",
      "Python implementation: CPython\n",
      "Python version       : 3.10.9\n",
      "IPython version      : 8.10.0\n",
      "\n",
      "Compiler    : MSC v.1916 64 bit (AMD64)\n",
      "OS          : Windows\n",
      "Release     : 10\n",
      "Machine     : AMD64\n",
      "Processor   : Intel64 Family 6 Model 140 Stepping 1, GenuineIntel\n",
      "CPU cores   : 8\n",
      "Architecture: 64bit\n",
      "\n"
     ]
    }
   ],
   "source": [
    "%load_ext watermark\n",
    "%watermark"
   ]
  },
  {
   "cell_type": "markdown",
   "id": "95b46c41",
   "metadata": {},
   "source": [
    "En la sección de análisis de datos, detectamos los siguientes errores en el dataset original\n",
    "\n",
    "Hay 1506 records duplicados\n",
    "Las variables desplazamiento, cilindros, transmision y traccion tienen valores inexistentes\n",
    "hay un outlier en las variables co2 y consumo\n",
    "Hay coches hibridos y coches electricos (hemos removido estos ultimos ya que no contaminan).\n",
    "Ninguna variable numérica sigue una distribución normal"
   ]
  },
  {
   "cell_type": "code",
   "execution_count": 41,
   "id": "52a649f1",
   "metadata": {},
   "outputs": [],
   "source": [
    "import pandas as pd \n",
    "import matplotlib.pyplot as plt\n",
    "\n",
    "%matplotlib inline\n",
    "plt.rcParams[\"figure.figsize\"]=(12,12)"
   ]
  },
  {
   "cell_type": "code",
   "execution_count": 11,
   "id": "6177aad6",
   "metadata": {},
   "outputs": [],
   "source": [
    "vehiculos=(pd.read_csv(r\"C:\\Users\\54296\\Desktop\\Data Science\\curso_data_science-master\\Secciones\\Seccion4.Analisis_y_procesado_de_datos\\Procesado_de_Datos\\data\\Vehiculos_original.csv\")\n",
    "            .rename(columns={\n",
    "                \"cylinders\":\"cilindros\",\n",
    "                \"trany\":\"transmision\",\n",
    "                \"make\":\"fabricante\",\n",
    "                \"model\":\"modelo\",\n",
    "                \"displ\":\"desplazamiento\", #volumen de desplazamiento del motor\n",
    "                \"drive\":\"traccion\",\n",
    "                \"VClass\":\"clase\",\n",
    "                \"fuelType\":\"combustible\",\n",
    "                \"comb08\":\"consumo\", #combined MPG for fuelType1\n",
    "                \"co2TailpipeGpm\":\"co2\", # tailpipe CO2 in grams/mile\n",
    "            })\n",
    "            .query(\"co2 >0\")\n",
    "        )"
   ]
  },
  {
   "cell_type": "code",
   "execution_count": 7,
   "id": "1e1f7bb8",
   "metadata": {},
   "outputs": [
    {
     "data": {
      "text/plain": [
       "(38436, 11)"
      ]
     },
     "execution_count": 7,
     "metadata": {},
     "output_type": "execute_result"
    }
   ],
   "source": [
    "vehiculos.shape"
   ]
  },
  {
   "cell_type": "markdown",
   "id": "4873ce31",
   "metadata": {},
   "source": [
    "RECORDS DUPLICADO"
   ]
  },
  {
   "cell_type": "code",
   "execution_count": 12,
   "id": "913b8fc9",
   "metadata": {},
   "outputs": [],
   "source": [
    "vehiculos = vehiculos.drop_duplicates()"
   ]
  },
  {
   "cell_type": "code",
   "execution_count": 13,
   "id": "932b4755",
   "metadata": {},
   "outputs": [
    {
     "data": {
      "text/plain": [
       "(36791, 11)"
      ]
     },
     "execution_count": 13,
     "metadata": {},
     "output_type": "execute_result"
    }
   ],
   "source": [
    "vehiculos.shape"
   ]
  },
  {
   "cell_type": "markdown",
   "id": "f2ea0c4d",
   "metadata": {},
   "source": [
    "### VALORES EXTREMOS "
   ]
  },
  {
   "cell_type": "code",
   "execution_count": 14,
   "id": "5838cb1b",
   "metadata": {},
   "outputs": [
    {
     "name": "stdout",
     "output_type": "stream",
     "text": [
      "year | 0 | int64\n",
      "desplazamiento | 0 | float64\n",
      "cilindros | 0 | float64\n",
      "consumo | 400 | int64\n",
      "co2 | 221 | float64\n"
     ]
    },
    {
     "name": "stderr",
     "output_type": "stream",
     "text": [
      "C:\\Users\\54296\\AppData\\Local\\Temp\\ipykernel_15392\\510012546.py:6: DeprecationWarning: `np.object` is a deprecated alias for the builtin `object`. To silence this warning, use `object` by itself. Doing this will not modify any behavior and is safe. \n",
      "Deprecated in NumPy 1.20; for more details and guidance: https://numpy.org/devdocs/release/1.20.0-notes.html#deprecations\n",
      "  if df[columna].dtype != np.object:\n"
     ]
    }
   ],
   "source": [
    "from scipy import stats\n",
    "import numpy as np\n",
    "\n",
    "def outliers_col(df):\n",
    "    for columna in df:\n",
    "        if df[columna].dtype != np.object:\n",
    "            n_outliers = len(df[np.abs(stats.zscore(df[columna])) > 3])    \n",
    "            print(\"{} | {} | {}\".format(\n",
    "                df[columna].name,\n",
    "                n_outliers,\n",
    "                df[columna].dtype\n",
    "        ))\n",
    "\n",
    "outliers_col(vehiculos)"
   ]
  },
  {
   "cell_type": "code",
   "execution_count": 15,
   "id": "58f75ea4",
   "metadata": {},
   "outputs": [
    {
     "data": {
      "text/html": [
       "<div>\n",
       "<style scoped>\n",
       "    .dataframe tbody tr th:only-of-type {\n",
       "        vertical-align: middle;\n",
       "    }\n",
       "\n",
       "    .dataframe tbody tr th {\n",
       "        vertical-align: top;\n",
       "    }\n",
       "\n",
       "    .dataframe thead th {\n",
       "        text-align: right;\n",
       "    }\n",
       "</style>\n",
       "<table border=\"1\" class=\"dataframe\">\n",
       "  <thead>\n",
       "    <tr style=\"text-align: right;\">\n",
       "      <th></th>\n",
       "      <th>year</th>\n",
       "      <th>desplazamiento</th>\n",
       "      <th>cilindros</th>\n",
       "      <th>consumo</th>\n",
       "      <th>co2</th>\n",
       "    </tr>\n",
       "  </thead>\n",
       "  <tbody>\n",
       "    <tr>\n",
       "      <th>count</th>\n",
       "      <td>36791.000000</td>\n",
       "      <td>36789.000000</td>\n",
       "      <td>36788.000000</td>\n",
       "      <td>36791.000000</td>\n",
       "      <td>36791.000000</td>\n",
       "    </tr>\n",
       "    <tr>\n",
       "      <th>mean</th>\n",
       "      <td>2000.787421</td>\n",
       "      <td>3.321786</td>\n",
       "      <td>5.746493</td>\n",
       "      <td>20.012068</td>\n",
       "      <td>473.185008</td>\n",
       "    </tr>\n",
       "    <tr>\n",
       "      <th>std</th>\n",
       "      <td>10.374662</td>\n",
       "      <td>1.359945</td>\n",
       "      <td>1.758009</td>\n",
       "      <td>5.109608</td>\n",
       "      <td>118.833905</td>\n",
       "    </tr>\n",
       "    <tr>\n",
       "      <th>min</th>\n",
       "      <td>1984.000000</td>\n",
       "      <td>0.600000</td>\n",
       "      <td>2.000000</td>\n",
       "      <td>7.000000</td>\n",
       "      <td>29.000000</td>\n",
       "    </tr>\n",
       "    <tr>\n",
       "      <th>25%</th>\n",
       "      <td>1991.000000</td>\n",
       "      <td>2.200000</td>\n",
       "      <td>4.000000</td>\n",
       "      <td>17.000000</td>\n",
       "      <td>386.391304</td>\n",
       "    </tr>\n",
       "    <tr>\n",
       "      <th>50%</th>\n",
       "      <td>2002.000000</td>\n",
       "      <td>3.000000</td>\n",
       "      <td>6.000000</td>\n",
       "      <td>19.000000</td>\n",
       "      <td>466.000000</td>\n",
       "    </tr>\n",
       "    <tr>\n",
       "      <th>75%</th>\n",
       "      <td>2010.000000</td>\n",
       "      <td>4.300000</td>\n",
       "      <td>6.000000</td>\n",
       "      <td>23.000000</td>\n",
       "      <td>555.437500</td>\n",
       "    </tr>\n",
       "    <tr>\n",
       "      <th>max</th>\n",
       "      <td>2018.000000</td>\n",
       "      <td>8.400000</td>\n",
       "      <td>16.000000</td>\n",
       "      <td>58.000000</td>\n",
       "      <td>1269.571429</td>\n",
       "    </tr>\n",
       "  </tbody>\n",
       "</table>\n",
       "</div>"
      ],
      "text/plain": [
       "               year  desplazamiento     cilindros       consumo           co2\n",
       "count  36791.000000    36789.000000  36788.000000  36791.000000  36791.000000\n",
       "mean    2000.787421        3.321786      5.746493     20.012068    473.185008\n",
       "std       10.374662        1.359945      1.758009      5.109608    118.833905\n",
       "min     1984.000000        0.600000      2.000000      7.000000     29.000000\n",
       "25%     1991.000000        2.200000      4.000000     17.000000    386.391304\n",
       "50%     2002.000000        3.000000      6.000000     19.000000    466.000000\n",
       "75%     2010.000000        4.300000      6.000000     23.000000    555.437500\n",
       "max     2018.000000        8.400000     16.000000     58.000000   1269.571429"
      ]
     },
     "execution_count": 15,
     "metadata": {},
     "output_type": "execute_result"
    }
   ],
   "source": [
    "vehiculos.describe()"
   ]
  },
  {
   "cell_type": "code",
   "execution_count": 16,
   "id": "58e6dc5a",
   "metadata": {},
   "outputs": [
    {
     "name": "stdout",
     "output_type": "stream",
     "text": [
      "4.6832452329136025 35.34089110477768\n",
      "116.68329326822334 829.6867227314084\n"
     ]
    }
   ],
   "source": [
    "consumo_min = vehiculos.consumo.mean() - 3*vehiculos.consumo.std()\n",
    "consumo_max = vehiculos.consumo.mean() + 3*vehiculos.consumo.std()\n",
    "print(consumo_min, consumo_max)\n",
    "\n",
    "co2_min = vehiculos.co2.mean() - 3*vehiculos.co2.std()\n",
    "co2_max = vehiculos.co2.mean() + 3*vehiculos.co2.std()\n",
    "print(co2_min, co2_max)"
   ]
  },
  {
   "cell_type": "code",
   "execution_count": 17,
   "id": "4b77463e",
   "metadata": {},
   "outputs": [],
   "source": [
    "vehiculos = vehiculos[\n",
    "    (np.abs(stats.zscore(vehiculos.consumo)) < 3)  & \\\n",
    "    (np.abs(stats.zscore(vehiculos.co2)) < 3)\n",
    "]"
   ]
  },
  {
   "cell_type": "code",
   "execution_count": 18,
   "id": "de3deea1",
   "metadata": {},
   "outputs": [
    {
     "data": {
      "text/plain": [
       "(36185, 11)"
      ]
     },
     "execution_count": 18,
     "metadata": {},
     "output_type": "execute_result"
    }
   ],
   "source": [
    "vehiculos.shape\n"
   ]
  },
  {
   "cell_type": "code",
   "execution_count": 19,
   "id": "291136f4",
   "metadata": {},
   "outputs": [
    {
     "data": {
      "text/html": [
       "<div>\n",
       "<style scoped>\n",
       "    .dataframe tbody tr th:only-of-type {\n",
       "        vertical-align: middle;\n",
       "    }\n",
       "\n",
       "    .dataframe tbody tr th {\n",
       "        vertical-align: top;\n",
       "    }\n",
       "\n",
       "    .dataframe thead th {\n",
       "        text-align: right;\n",
       "    }\n",
       "</style>\n",
       "<table border=\"1\" class=\"dataframe\">\n",
       "  <thead>\n",
       "    <tr style=\"text-align: right;\">\n",
       "      <th></th>\n",
       "      <th>year</th>\n",
       "      <th>desplazamiento</th>\n",
       "      <th>cilindros</th>\n",
       "      <th>consumo</th>\n",
       "      <th>co2</th>\n",
       "    </tr>\n",
       "  </thead>\n",
       "  <tbody>\n",
       "    <tr>\n",
       "      <th>count</th>\n",
       "      <td>36185.000000</td>\n",
       "      <td>36183.000000</td>\n",
       "      <td>36182.000000</td>\n",
       "      <td>36185.000000</td>\n",
       "      <td>36185.000000</td>\n",
       "    </tr>\n",
       "    <tr>\n",
       "      <th>mean</th>\n",
       "      <td>2000.799281</td>\n",
       "      <td>3.326051</td>\n",
       "      <td>5.750290</td>\n",
       "      <td>19.842366</td>\n",
       "      <td>473.442286</td>\n",
       "    </tr>\n",
       "    <tr>\n",
       "      <th>std</th>\n",
       "      <td>10.342556</td>\n",
       "      <td>1.340777</td>\n",
       "      <td>1.733438</td>\n",
       "      <td>4.587177</td>\n",
       "      <td>110.906946</td>\n",
       "    </tr>\n",
       "    <tr>\n",
       "      <th>min</th>\n",
       "      <td>1984.000000</td>\n",
       "      <td>0.900000</td>\n",
       "      <td>2.000000</td>\n",
       "      <td>9.000000</td>\n",
       "      <td>144.000000</td>\n",
       "    </tr>\n",
       "    <tr>\n",
       "      <th>25%</th>\n",
       "      <td>1991.000000</td>\n",
       "      <td>2.200000</td>\n",
       "      <td>4.000000</td>\n",
       "      <td>17.000000</td>\n",
       "      <td>394.000000</td>\n",
       "    </tr>\n",
       "    <tr>\n",
       "      <th>50%</th>\n",
       "      <td>2002.000000</td>\n",
       "      <td>3.000000</td>\n",
       "      <td>6.000000</td>\n",
       "      <td>19.000000</td>\n",
       "      <td>467.736842</td>\n",
       "    </tr>\n",
       "    <tr>\n",
       "      <th>75%</th>\n",
       "      <td>2010.000000</td>\n",
       "      <td>4.300000</td>\n",
       "      <td>6.000000</td>\n",
       "      <td>23.000000</td>\n",
       "      <td>552.000000</td>\n",
       "    </tr>\n",
       "    <tr>\n",
       "      <th>max</th>\n",
       "      <td>2018.000000</td>\n",
       "      <td>8.400000</td>\n",
       "      <td>12.000000</td>\n",
       "      <td>35.000000</td>\n",
       "      <td>829.000000</td>\n",
       "    </tr>\n",
       "  </tbody>\n",
       "</table>\n",
       "</div>"
      ],
      "text/plain": [
       "               year  desplazamiento     cilindros       consumo           co2\n",
       "count  36185.000000    36183.000000  36182.000000  36185.000000  36185.000000\n",
       "mean    2000.799281        3.326051      5.750290     19.842366    473.442286\n",
       "std       10.342556        1.340777      1.733438      4.587177    110.906946\n",
       "min     1984.000000        0.900000      2.000000      9.000000    144.000000\n",
       "25%     1991.000000        2.200000      4.000000     17.000000    394.000000\n",
       "50%     2002.000000        3.000000      6.000000     19.000000    467.736842\n",
       "75%     2010.000000        4.300000      6.000000     23.000000    552.000000\n",
       "max     2018.000000        8.400000     12.000000     35.000000    829.000000"
      ]
     },
     "execution_count": 19,
     "metadata": {},
     "output_type": "execute_result"
    }
   ],
   "source": [
    "vehiculos.describe()"
   ]
  },
  {
   "cell_type": "markdown",
   "id": "19cae872",
   "metadata": {},
   "source": [
    "Vemos que aunque hemos removido los outliers, al haber cambiado la distribución del dataset se generan nuevos outliers"
   ]
  },
  {
   "cell_type": "code",
   "execution_count": 20,
   "id": "253a1318",
   "metadata": {},
   "outputs": [
    {
     "name": "stdout",
     "output_type": "stream",
     "text": [
      "year | 0 | int64\n",
      "desplazamiento | 0 | float64\n",
      "cilindros | 0 | float64\n",
      "consumo | 213 | int64\n",
      "co2 | 424 | float64\n"
     ]
    },
    {
     "name": "stderr",
     "output_type": "stream",
     "text": [
      "C:\\Users\\54296\\AppData\\Local\\Temp\\ipykernel_15392\\510012546.py:6: DeprecationWarning: `np.object` is a deprecated alias for the builtin `object`. To silence this warning, use `object` by itself. Doing this will not modify any behavior and is safe. \n",
      "Deprecated in NumPy 1.20; for more details and guidance: https://numpy.org/devdocs/release/1.20.0-notes.html#deprecations\n",
      "  if df[columna].dtype != np.object:\n"
     ]
    }
   ],
   "source": [
    "outliers_col(vehiculos)"
   ]
  },
  {
   "cell_type": "markdown",
   "id": "7099915d",
   "metadata": {},
   "source": [
    "Para eliminar esto simplemente repetimos el proceso hasta que no queden valores extremos"
   ]
  },
  {
   "cell_type": "code",
   "execution_count": 21,
   "id": "51a7c85a",
   "metadata": {},
   "outputs": [
    {
     "name": "stdout",
     "output_type": "stream",
     "text": [
      "year | 0 | int64\n",
      "desplazamiento | 0 | float64\n",
      "cilindros | 0 | float64\n",
      "consumo | 0 | int64\n",
      "co2 | 9 | float64\n"
     ]
    },
    {
     "name": "stderr",
     "output_type": "stream",
     "text": [
      "C:\\Users\\54296\\AppData\\Local\\Temp\\ipykernel_15392\\510012546.py:6: DeprecationWarning: `np.object` is a deprecated alias for the builtin `object`. To silence this warning, use `object` by itself. Doing this will not modify any behavior and is safe. \n",
      "Deprecated in NumPy 1.20; for more details and guidance: https://numpy.org/devdocs/release/1.20.0-notes.html#deprecations\n",
      "  if df[columna].dtype != np.object:\n"
     ]
    },
    {
     "data": {
      "text/plain": [
       "(35548, 11)"
      ]
     },
     "execution_count": 21,
     "metadata": {},
     "output_type": "execute_result"
    }
   ],
   "source": [
    "vehiculos = vehiculos[\n",
    "    (np.abs(stats.zscore(vehiculos.consumo)) < 3)  & \\\n",
    "    (np.abs(stats.zscore(vehiculos.co2)) < 3)\n",
    "]\n",
    "\n",
    "outliers_col(vehiculos)\n",
    "vehiculos.shape"
   ]
  },
  {
   "cell_type": "code",
   "execution_count": 22,
   "id": "07a4e119",
   "metadata": {},
   "outputs": [
    {
     "name": "stdout",
     "output_type": "stream",
     "text": [
      "year | 0 | int64\n",
      "desplazamiento | 0 | float64\n",
      "cilindros | 0 | float64\n",
      "consumo | 0 | int64\n",
      "co2 | 0 | float64\n"
     ]
    },
    {
     "name": "stderr",
     "output_type": "stream",
     "text": [
      "C:\\Users\\54296\\AppData\\Local\\Temp\\ipykernel_15392\\510012546.py:6: DeprecationWarning: `np.object` is a deprecated alias for the builtin `object`. To silence this warning, use `object` by itself. Doing this will not modify any behavior and is safe. \n",
      "Deprecated in NumPy 1.20; for more details and guidance: https://numpy.org/devdocs/release/1.20.0-notes.html#deprecations\n",
      "  if df[columna].dtype != np.object:\n"
     ]
    },
    {
     "data": {
      "text/plain": [
       "(35539, 11)"
      ]
     },
     "execution_count": 22,
     "metadata": {},
     "output_type": "execute_result"
    }
   ],
   "source": [
    "vehiculos = vehiculos[\n",
    "    (np.abs(stats.zscore(vehiculos.consumo)) < 3)  & \\\n",
    "    (np.abs(stats.zscore(vehiculos.co2)) < 3)\n",
    "]\n",
    "\n",
    "outliers_col(vehiculos)\n",
    "vehiculos.shape"
   ]
  },
  {
   "cell_type": "markdown",
   "id": "4482f681",
   "metadata": {},
   "source": [
    "### Valores inexistentes"
   ]
  },
  {
   "cell_type": "code",
   "execution_count": 24,
   "id": "961f1ce3",
   "metadata": {},
   "outputs": [
    {
     "name": "stdout",
     "output_type": "stream",
     "text": [
      "fabricante | 0.0 | object\n",
      "modelo | 0.0 | object\n",
      "year | 0.0 | int64\n",
      "desplazamiento | 5.627620360730465e-05 | float64\n",
      "cilindros | 8.441430541095698e-05 | float64\n",
      "transmision | 2.8138101803652325e-05 | object\n",
      "traccion | 0.02093474774191733 | object\n",
      "clase | 0.0 | object\n",
      "combustible | 0.0 | object\n",
      "consumo | 0.0 | int64\n",
      "co2 | 0.0 | float64\n"
     ]
    }
   ],
   "source": [
    "n_records = len(vehiculos)\n",
    "def valores_inexistentes_col(df):\n",
    "    for columna in df:\n",
    "        print(\"{} | {} | {}\".format(\n",
    "            df[columna].name, len(df[df[columna].isnull()]) / (1.0*n_records), df[columna].dtype\n",
    "        ))\n",
    "\n",
    "valores_inexistentes_col(vehiculos)"
   ]
  },
  {
   "cell_type": "code",
   "execution_count": 25,
   "id": "6b9fa2e1",
   "metadata": {},
   "outputs": [
    {
     "data": {
      "text/plain": [
       "(35535, 11)"
      ]
     },
     "execution_count": 25,
     "metadata": {},
     "output_type": "execute_result"
    }
   ],
   "source": [
    "vehiculos_sin_null = vehiculos.dropna(subset=[\"transmision\", \"desplazamiento\", \"cilindros\"])\n",
    "\n",
    "vehiculos_sin_null.shape\n"
   ]
  },
  {
   "cell_type": "code",
   "execution_count": 26,
   "id": "185e6e7c",
   "metadata": {},
   "outputs": [
    {
     "data": {
      "text/plain": [
       "(35539, 14)"
      ]
     },
     "execution_count": 26,
     "metadata": {},
     "output_type": "execute_result"
    }
   ],
   "source": [
    "vehiculos[\"transmision_imp\"] = vehiculos.transmision.fillna(\"sin transmision\")\n",
    "vehiculos[\"desplazamiento_imp\"] = vehiculos.desplazamiento.fillna(0)\n",
    "vehiculos[\"cilindros_imp\"] = vehiculos.cilindros.fillna(0)\n",
    "\n",
    "vehiculos.shape"
   ]
  },
  {
   "cell_type": "code",
   "execution_count": 27,
   "id": "12116abb",
   "metadata": {},
   "outputs": [],
   "source": [
    "transmision_moda = vehiculos.transmision.mode().values[0]\n",
    "cilindros_moda = vehiculos.cilindros.mode().values[0]\n",
    "desplazamiento_mediana = vehiculos.desplazamiento.median()\n",
    "\n",
    "vehiculos.transmision = vehiculos.transmision.fillna(transmision_moda)\n",
    "vehiculos.desplazamiento = vehiculos.desplazamiento.fillna(desplazamiento_mediana)\n",
    "vehiculos.cilindros = vehiculos.cilindros.fillna(cilindros_moda)"
   ]
  },
  {
   "cell_type": "code",
   "execution_count": 28,
   "id": "079c90bd",
   "metadata": {},
   "outputs": [
    {
     "data": {
      "text/html": [
       "<div>\n",
       "<style scoped>\n",
       "    .dataframe tbody tr th:only-of-type {\n",
       "        vertical-align: middle;\n",
       "    }\n",
       "\n",
       "    .dataframe tbody tr th {\n",
       "        vertical-align: top;\n",
       "    }\n",
       "\n",
       "    .dataframe thead th {\n",
       "        text-align: right;\n",
       "    }\n",
       "</style>\n",
       "<table border=\"1\" class=\"dataframe\">\n",
       "  <thead>\n",
       "    <tr style=\"text-align: right;\">\n",
       "      <th></th>\n",
       "      <th>fabricante</th>\n",
       "      <th>modelo</th>\n",
       "      <th>year</th>\n",
       "      <th>desplazamiento</th>\n",
       "      <th>cilindros</th>\n",
       "      <th>transmision</th>\n",
       "      <th>traccion</th>\n",
       "      <th>clase</th>\n",
       "      <th>combustible</th>\n",
       "      <th>consumo</th>\n",
       "      <th>co2</th>\n",
       "      <th>transmision_imp</th>\n",
       "      <th>desplazamiento_imp</th>\n",
       "      <th>cilindros_imp</th>\n",
       "    </tr>\n",
       "  </thead>\n",
       "  <tbody>\n",
       "    <tr>\n",
       "      <th>15458</th>\n",
       "      <td>GMC</td>\n",
       "      <td>C25 Pickup 2WD</td>\n",
       "      <td>1984</td>\n",
       "      <td>4.1</td>\n",
       "      <td>6.0</td>\n",
       "      <td>Automatic 4-spd</td>\n",
       "      <td>2-Wheel Drive</td>\n",
       "      <td>Standard Pickup Trucks 2WD</td>\n",
       "      <td>Regular</td>\n",
       "      <td>14</td>\n",
       "      <td>634.785714</td>\n",
       "      <td>sin transmision</td>\n",
       "      <td>4.1</td>\n",
       "      <td>6.0</td>\n",
       "    </tr>\n",
       "  </tbody>\n",
       "</table>\n",
       "</div>"
      ],
      "text/plain": [
       "      fabricante          modelo  year  desplazamiento  cilindros  \\\n",
       "15458        GMC  C25 Pickup 2WD  1984             4.1        6.0   \n",
       "\n",
       "           transmision       traccion                       clase combustible  \\\n",
       "15458  Automatic 4-spd  2-Wheel Drive  Standard Pickup Trucks 2WD     Regular   \n",
       "\n",
       "       consumo         co2  transmision_imp  desplazamiento_imp  cilindros_imp  \n",
       "15458       14  634.785714  sin transmision                 4.1            6.0  "
      ]
     },
     "execution_count": 28,
     "metadata": {},
     "output_type": "execute_result"
    }
   ],
   "source": [
    "vehiculos[vehiculos.transmision_imp==\"sin transmision\"]"
   ]
  },
  {
   "cell_type": "markdown",
   "id": "e885fd43",
   "metadata": {},
   "source": [
    "### Normalizacion/Estandardizacion de variables"
   ]
  },
  {
   "cell_type": "markdown",
   "id": "56dd96e3",
   "metadata": {},
   "source": [
    "Hay dos formas en las cuales un dataset puede tener variables que haya que modificar pee a que no sean nulas/repetidas\n",
    "Generalmente en un dataset las variables van a tener rangos muy distintos"
   ]
  },
  {
   "cell_type": "code",
   "execution_count": 29,
   "id": "97cddb0e",
   "metadata": {},
   "outputs": [
    {
     "data": {
      "text/html": [
       "<div>\n",
       "<style scoped>\n",
       "    .dataframe tbody tr th:only-of-type {\n",
       "        vertical-align: middle;\n",
       "    }\n",
       "\n",
       "    .dataframe tbody tr th {\n",
       "        vertical-align: top;\n",
       "    }\n",
       "\n",
       "    .dataframe thead th {\n",
       "        text-align: right;\n",
       "    }\n",
       "</style>\n",
       "<table border=\"1\" class=\"dataframe\">\n",
       "  <thead>\n",
       "    <tr style=\"text-align: right;\">\n",
       "      <th></th>\n",
       "      <th>year</th>\n",
       "      <th>desplazamiento</th>\n",
       "      <th>cilindros</th>\n",
       "      <th>consumo</th>\n",
       "      <th>co2</th>\n",
       "      <th>desplazamiento_imp</th>\n",
       "      <th>cilindros_imp</th>\n",
       "    </tr>\n",
       "  </thead>\n",
       "  <tbody>\n",
       "    <tr>\n",
       "      <th>count</th>\n",
       "      <td>35539.000000</td>\n",
       "      <td>35539.000000</td>\n",
       "      <td>35539.000000</td>\n",
       "      <td>35539.000000</td>\n",
       "      <td>35539.000000</td>\n",
       "      <td>35539.000000</td>\n",
       "      <td>35539.000000</td>\n",
       "    </tr>\n",
       "    <tr>\n",
       "      <th>mean</th>\n",
       "      <td>2000.893188</td>\n",
       "      <td>3.308585</td>\n",
       "      <td>5.727426</td>\n",
       "      <td>19.863277</td>\n",
       "      <td>470.607342</td>\n",
       "      <td>3.308416</td>\n",
       "      <td>5.727089</td>\n",
       "    </tr>\n",
       "    <tr>\n",
       "      <th>std</th>\n",
       "      <td>10.308730</td>\n",
       "      <td>1.318233</td>\n",
       "      <td>1.705600</td>\n",
       "      <td>4.383492</td>\n",
       "      <td>104.425820</td>\n",
       "      <td>1.318465</td>\n",
       "      <td>1.706338</td>\n",
       "    </tr>\n",
       "    <tr>\n",
       "      <th>min</th>\n",
       "      <td>1984.000000</td>\n",
       "      <td>1.000000</td>\n",
       "      <td>2.000000</td>\n",
       "      <td>10.000000</td>\n",
       "      <td>169.000000</td>\n",
       "      <td>0.000000</td>\n",
       "      <td>0.000000</td>\n",
       "    </tr>\n",
       "    <tr>\n",
       "      <th>25%</th>\n",
       "      <td>1991.000000</td>\n",
       "      <td>2.200000</td>\n",
       "      <td>4.000000</td>\n",
       "      <td>17.000000</td>\n",
       "      <td>396.000000</td>\n",
       "      <td>2.200000</td>\n",
       "      <td>4.000000</td>\n",
       "    </tr>\n",
       "    <tr>\n",
       "      <th>50%</th>\n",
       "      <td>2002.000000</td>\n",
       "      <td>3.000000</td>\n",
       "      <td>6.000000</td>\n",
       "      <td>19.000000</td>\n",
       "      <td>465.000000</td>\n",
       "      <td>3.000000</td>\n",
       "      <td>6.000000</td>\n",
       "    </tr>\n",
       "    <tr>\n",
       "      <th>75%</th>\n",
       "      <td>2010.000000</td>\n",
       "      <td>4.300000</td>\n",
       "      <td>6.000000</td>\n",
       "      <td>23.000000</td>\n",
       "      <td>525.000000</td>\n",
       "      <td>4.300000</td>\n",
       "      <td>6.000000</td>\n",
       "    </tr>\n",
       "    <tr>\n",
       "      <th>max</th>\n",
       "      <td>2018.000000</td>\n",
       "      <td>8.400000</td>\n",
       "      <td>12.000000</td>\n",
       "      <td>33.000000</td>\n",
       "      <td>782.000000</td>\n",
       "      <td>8.400000</td>\n",
       "      <td>12.000000</td>\n",
       "    </tr>\n",
       "  </tbody>\n",
       "</table>\n",
       "</div>"
      ],
      "text/plain": [
       "               year  desplazamiento     cilindros       consumo           co2  \\\n",
       "count  35539.000000    35539.000000  35539.000000  35539.000000  35539.000000   \n",
       "mean    2000.893188        3.308585      5.727426     19.863277    470.607342   \n",
       "std       10.308730        1.318233      1.705600      4.383492    104.425820   \n",
       "min     1984.000000        1.000000      2.000000     10.000000    169.000000   \n",
       "25%     1991.000000        2.200000      4.000000     17.000000    396.000000   \n",
       "50%     2002.000000        3.000000      6.000000     19.000000    465.000000   \n",
       "75%     2010.000000        4.300000      6.000000     23.000000    525.000000   \n",
       "max     2018.000000        8.400000     12.000000     33.000000    782.000000   \n",
       "\n",
       "       desplazamiento_imp  cilindros_imp  \n",
       "count        35539.000000   35539.000000  \n",
       "mean             3.308416       5.727089  \n",
       "std              1.318465       1.706338  \n",
       "min              0.000000       0.000000  \n",
       "25%              2.200000       4.000000  \n",
       "50%              3.000000       6.000000  \n",
       "75%              4.300000       6.000000  \n",
       "max              8.400000      12.000000  "
      ]
     },
     "execution_count": 29,
     "metadata": {},
     "output_type": "execute_result"
    }
   ],
   "source": [
    "vehiculos.describe()"
   ]
  },
  {
   "cell_type": "code",
   "execution_count": 30,
   "id": "c2c0f6b0",
   "metadata": {},
   "outputs": [
    {
     "data": {
      "text/plain": [
       "<Axes: ylabel='Density'>"
      ]
     },
     "execution_count": 30,
     "metadata": {},
     "output_type": "execute_result"
    },
    {
     "data": {
      "image/png": "[encoded data removed]",
      "text/plain": [
       "<Figure size 1200x1200 with 1 Axes>"
      ]
     },
     "metadata": {},
     "output_type": "display_data"
    }
   ],
   "source": [
    "vehiculos.desplazamiento.plot.kde()\n"
   ]
  },
  {
   "cell_type": "code",
   "execution_count": 31,
   "id": "2b07b27d",
   "metadata": {},
   "outputs": [],
   "source": [
    "from scipy import stats"
   ]
  },
  {
   "cell_type": "code",
   "execution_count": 32,
   "id": "5a616fa3",
   "metadata": {},
   "outputs": [
    {
     "data": {
      "text/plain": [
       "0.6267820075196722"
      ]
     },
     "execution_count": 32,
     "metadata": {},
     "output_type": "execute_result"
    }
   ],
   "source": [
    "stats.skew(vehiculos.desplazamiento)"
   ]
  },
  {
   "cell_type": "markdown",
   "id": "3f710ec7",
   "metadata": {},
   "source": [
    " Normalizacion: \n",
    "Convierte una variable numerica con un rango cualquiera a un rango [0,1]"
   ]
  },
  {
   "cell_type": "code",
   "execution_count": 34,
   "id": "262b3b57",
   "metadata": {},
   "outputs": [
    {
     "ename": "TypeError",
     "evalue": "'module' object is not callable",
     "output_type": "error",
     "traceback": [
      "\u001b[1;31m---------------------------------------------------------------------------\u001b[0m",
      "\u001b[1;31mTypeError\u001b[0m                                 Traceback (most recent call last)",
      "Cell \u001b[1;32mIn[34], line 9\u001b[0m\n\u001b[0;32m      7\u001b[0m desplazamiento_normalizado\u001b[38;5;241m.\u001b[39mplot\u001b[38;5;241m.\u001b[39mhist(label\u001b[38;5;241m=\u001b[39m\u001b[38;5;124m\"\u001b[39m\u001b[38;5;124mnormalizado\u001b[39m\u001b[38;5;124m\"\u001b[39m)\n\u001b[0;32m      8\u001b[0m desplazamiento_original\u001b[38;5;241m.\u001b[39mplot\u001b[38;5;241m.\u001b[39mhist(label\u001b[38;5;241m=\u001b[39m\u001b[38;5;124m\"\u001b[39m\u001b[38;5;124moriginal\u001b[39m\u001b[38;5;124m\"\u001b[39m)\n\u001b[1;32m----> 9\u001b[0m \u001b[43mplt\u001b[49m\u001b[38;5;241;43m.\u001b[39;49m\u001b[43mlegend\u001b[49m\u001b[43m(\u001b[49m\u001b[43m)\u001b[49m\n",
      "\u001b[1;31mTypeError\u001b[0m: 'module' object is not callable"
     ]
    },
    {
     "data": {
      "image/png": "[encoded data removed]",
      "text/plain": [
       "<Figure size 1200x1200 with 1 Axes>"
      ]
     },
     "metadata": {},
     "output_type": "display_data"
    }
   ],
   "source": [
    "desplazamiento_x_min = vehiculos.desplazamiento.min()\n",
    "desplazamiento_x_max = vehiculos.desplazamiento.max()\n",
    "\n",
    "desplazamiento_original = vehiculos.desplazamiento\n",
    "desplazamiento_normalizado = desplazamiento_original.apply(lambda x: (x-desplazamiento_x_min) / (desplazamiento_x_max - desplazamiento_x_min))\n",
    "\n",
    "desplazamiento_normalizado.plot.hist(label=\"normalizado\")\n",
    "desplazamiento_original.plot.hist(label=\"original\")\n",
    "plt.legend();"
   ]
  },
  {
   "cell_type": "markdown",
   "id": "466bcda9",
   "metadata": {},
   "source": [
    "# Estandarizacion \n",
    "El objetivo es reescalar a una distribucion con media 0 y desviacion estandar 1 \n",
    "\n",
    "Estandarizar se puede realizar fácilmente convirtiendo cada valor a su puntuación Z, con la formula:\n",
    "\n",
    "      𝑦−𝜇𝜎/𝜎"
   ]
  },
  {
   "cell_type": "code",
   "execution_count": 38,
   "id": "c18290d8",
   "metadata": {},
   "outputs": [
    {
     "ename": "TypeError",
     "evalue": "'module' object is not callable",
     "output_type": "error",
     "traceback": [
      "\u001b[1;31m---------------------------------------------------------------------------\u001b[0m",
      "\u001b[1;31mTypeError\u001b[0m                                 Traceback (most recent call last)",
      "Cell \u001b[1;32mIn[38], line 8\u001b[0m\n\u001b[0;32m      6\u001b[0m desplazamiento_estandarizado\u001b[38;5;241m.\u001b[39mplot\u001b[38;5;241m.\u001b[39mhist(label\u001b[38;5;241m=\u001b[39m\u001b[38;5;124m\"\u001b[39m\u001b[38;5;124mstandardizado\u001b[39m\u001b[38;5;124m\"\u001b[39m, alpha\u001b[38;5;241m=\u001b[39m\u001b[38;5;241m0.5\u001b[39m)\n\u001b[0;32m      7\u001b[0m desplazamiento_original\u001b[38;5;241m.\u001b[39mplot\u001b[38;5;241m.\u001b[39mhist(label\u001b[38;5;241m=\u001b[39m\u001b[38;5;124m\"\u001b[39m\u001b[38;5;124moriginal\u001b[39m\u001b[38;5;124m\"\u001b[39m, alpha\u001b[38;5;241m=\u001b[39m\u001b[38;5;241m0.5\u001b[39m)\n\u001b[1;32m----> 8\u001b[0m \u001b[43mplt\u001b[49m\u001b[38;5;241;43m.\u001b[39;49m\u001b[43mlegend\u001b[49m\u001b[43m(\u001b[49m\u001b[43m)\u001b[49m\n",
      "\u001b[1;31mTypeError\u001b[0m: 'module' object is not callable"
     ]
    },
    {
     "data": {
      "image/png": "[encoded data removed]",
      "text/plain": [
       "<Figure size 1200x1200 with 1 Axes>"
      ]
     },
     "metadata": {},
     "output_type": "display_data"
    }
   ],
   "source": [
    "desplazamiento_mu = vehiculos.desplazamiento.mean()\n",
    "desplazamiento_sigma = vehiculos.desplazamiento.std()\n",
    "\n",
    "desplazamiento_estandarizado = desplazamiento_original.apply(lambda x: (x-desplazamiento_mu) / desplazamiento_sigma)\n",
    "\n",
    "desplazamiento_estandarizado.plot.hist(label=\"standardizado\", alpha=0.5)\n",
    "desplazamiento_original.plot.hist(label=\"original\", alpha=0.5)\n",
    "plt.legend();"
   ]
  },
  {
   "cell_type": "markdown",
   "id": "8c294404",
   "metadata": {},
   "source": [
    "Por ejemplo, vamos a hacer un gráfico de dispersión para ver la comparación de las variables displ (desplazamiento del motor) y comb08 (consumo de combustible) en funcion de si están normalizadas o estandarizadas."
   ]
  },
  {
   "cell_type": "code",
   "execution_count": 39,
   "id": "f29876d0",
   "metadata": {},
   "outputs": [],
   "source": [
    "consumo_original = vehiculos.consumo\n",
    "\n",
    "consumo_mu = consumo_original.mean()\n",
    "consumo_sigma = consumo_original.std()\n",
    "consumo_min = consumo_original.min()\n",
    "consumo_max = consumo_original.max()\n",
    "\n",
    "consumo_estandarizado = consumo_original.apply(lambda x: (x-consumo_mu)/consumo_sigma)\n",
    "consumo_normalizado = consumo_original.apply(lambda x: (x-consumo_min)/(consumo_max - consumo_min))"
   ]
  },
  {
   "cell_type": "code",
   "execution_count": 42,
   "id": "31f4f4ec",
   "metadata": {},
   "outputs": [
    {
     "data": {
      "image/png": "[encoded data removed]",
      "text/plain": [
       "<Figure size 1200x1200 with 1 Axes>"
      ]
     },
     "metadata": {},
     "output_type": "display_data"
    }
   ],
   "source": [
    "plt.scatter(x=consumo_original,y=desplazamiento_original, label=\"original\")\n",
    "plt.scatter(x=consumo_estandarizado,y=desplazamiento_estandarizado, label=\"estandarizado\")\n",
    "plt.scatter(x=consumo_normalizado,y=desplazamiento_normalizado, label=\"normalizado\")\n",
    "\n",
    "plt.xlabel(\"consumo\")\n",
    "plt.ylabel(\"desplazamiento\")\n",
    "plt.title(\"Diferencias entre diferentes tipos de reescalado de variables\")\n",
    "plt.legend();"
   ]
  },
  {
   "cell_type": "code",
   "execution_count": 43,
   "id": "2643fcf1",
   "metadata": {},
   "outputs": [],
   "source": [
    "vehiculos.to_csv(r\"C:\\Users\\54296\\Desktop\\Data Science\\curso_data_science-master\\Secciones\\Seccion4.Analisis_y_procesado_de_datos\\Procesado_de_Datos\\data\\Vehiculos_procesado.csv\",index=False)"
   ]
  },
  {
   "cell_type": "code",
   "execution_count": null,
   "id": "671f1ded",
   "metadata": {},
   "outputs": [],
   "source": []
  },
  {
   "cell_type": "code",
   "execution_count": null,
   "id": "1459d7a9",
   "metadata": {},
   "outputs": [],
   "source": []
  },
  {
   "cell_type": "code",
   "execution_count": null,
   "id": "30f3993b",
   "metadata": {},
   "outputs": [],
   "source": []
  },
  {
   "cell_type": "code",
   "execution_count": null,
   "id": "ff5ca803",
   "metadata": {},
   "outputs": [],
   "source": []
  },
  {
   "cell_type": "code",
   "execution_count": null,
   "id": "5897c831",
   "metadata": {},
   "outputs": [],
   "source": []
  },
  {
   "cell_type": "code",
   "execution_count": null,
   "id": "d975d0dd",
   "metadata": {},
   "outputs": [],
   "source": []
  },
  {
   "cell_type": "code",
   "execution_count": null,
   "id": "4b1f72a2",
   "metadata": {},
   "outputs": [],
   "source": []
  }
 ],
 "metadata": {
  "kernelspec": {
   "display_name": "Python 3 (ipykernel)",
   "language": "python",
   "name": "python3"
  },
  "language_info": {
   "codemirror_mode": {
    "name": "ipython",
    "version": 3
   },
   "file_extension": ".py",
   "mimetype": "text/x-python",
   "name": "python",
   "nbconvert_exporter": "python",
   "pygments_lexer": "ipython3",
   "version": "3.10.9"
  }
 },
 "nbformat": 4,
 "nbformat_minor": 5
}
